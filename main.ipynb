{
 "cells": [
  {
   "cell_type": "code",
   "execution_count": 15,
   "id": "93c625a5",
   "metadata": {},
   "outputs": [],
   "source": [
    "# Black Jack\n",
    "# Bet\n",
    "# Draw 2 Cards\n",
    "# House shows one card\n",
    "# Draw new card or hold\n",
    "# 21 = Win, > 21 = Lose "
   ]
  },
  {
   "cell_type": "code",
   "execution_count": 16,
   "id": "97a61548",
   "metadata": {},
   "outputs": [],
   "source": [
    "import random"
   ]
  },
  {
   "cell_type": "code",
   "execution_count": 17,
   "id": "21ecb403",
   "metadata": {},
   "outputs": [],
   "source": [
    "cards = [(\"p2\", 2), (\"p3\", 3), (\"p4\", 4)]"
   ]
  },
  {
   "cell_type": "code",
   "execution_count": 18,
   "id": "b1c5d9fb",
   "metadata": {},
   "outputs": [],
   "source": [
    "cards = []\n",
    "\n",
    "def addCard(color, number):\n",
    "    card = color + str(number)\n",
    "    cards.append(card)\n",
    "\n",
    "def addPicCard(color):\n",
    "    cards.append(color + \"B\")\n",
    "    cards.append(color + \"D\")\n",
    "    cards.append(color + \"K\")\n",
    "\n",
    "# Erstelle Zahlenkarten\n",
    "for i in range(1, 11, 1):\n",
    "    i = int(i)\n",
    "    addCard(\"P_\", i)\n",
    "    addCard(\"C_\", i)\n",
    "    addCard(\"K_\", i)\n",
    "    addCard(\"H_\", i)\n",
    "\n",
    "# Erstelle Bildkarten\n",
    "addPicCard(\"P_\")\n",
    "addPicCard(\"C_\")\n",
    "addPicCard(\"K_\")\n",
    "addPicCard(\"H_\")"
   ]
  },
  {
   "cell_type": "code",
   "execution_count": null,
   "id": "329e4b26",
   "metadata": {},
   "outputs": [
    {
     "ename": "TypeError",
     "evalue": "list.count() takes exactly one argument (0 given)",
     "output_type": "error",
     "traceback": [
      "\u001b[0;31m---------------------------------------------------------------------------\u001b[0m",
      "\u001b[0;31mTypeError\u001b[0m                                 Traceback (most recent call last)",
      "Cell \u001b[0;32mIn[21], line 1\u001b[0m\n\u001b[0;32m----> 1\u001b[0m \u001b[43mcards\u001b[49m\u001b[38;5;241;43m.\u001b[39;49m\u001b[43mcount\u001b[49m\u001b[43m(\u001b[49m\u001b[43m)\u001b[49m\n",
      "\u001b[0;31mTypeError\u001b[0m: list.count() takes exactly one argument (0 given)"
     ]
    }
   ],
   "source": []
  }
 ],
 "metadata": {
  "kernelspec": {
   "display_name": "Python 3",
   "language": "python",
   "name": "python3"
  },
  "language_info": {
   "codemirror_mode": {
    "name": "ipython",
    "version": 3
   },
   "file_extension": ".py",
   "mimetype": "text/x-python",
   "name": "python",
   "nbconvert_exporter": "python",
   "pygments_lexer": "ipython3",
   "version": "3.12.2"
  }
 },
 "nbformat": 4,
 "nbformat_minor": 5
}
