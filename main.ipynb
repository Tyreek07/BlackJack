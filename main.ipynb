{
 "cells": [
  {
   "cell_type": "code",
   "execution_count": 45,
   "id": "93c625a5",
   "metadata": {},
   "outputs": [],
   "source": [
    "# Black Jack\n",
    "# Bet\n",
    "# Draw 2 Cards\n",
    "# House shows one card\n",
    "# Draw new card or hold\n",
    "# 21 = Win, > 21 = Lose "
   ]
  },
  {
   "cell_type": "code",
   "execution_count": 46,
   "id": "21ecb403",
   "metadata": {},
   "outputs": [],
   "source": [
    "cards = [(\"p2\", 2), (\"p3\", 3), (\"p4\", 4)]"
   ]
  },
  {
   "cell_type": "code",
   "execution_count": 50,
   "id": "b1c5d9fb",
   "metadata": {},
   "outputs": [
    {
     "name": "stdout",
     "output_type": "stream",
     "text": [
      "52\n"
     ]
    },
    {
     "data": {
      "text/plain": [
       "['P_1',\n",
       " 'C_1',\n",
       " 'K_1',\n",
       " 'H_1',\n",
       " 'P_2',\n",
       " 'C_2',\n",
       " 'K_2',\n",
       " 'H_2',\n",
       " 'P_3',\n",
       " 'C_3',\n",
       " 'K_3',\n",
       " 'H_3',\n",
       " 'P_4',\n",
       " 'C_4',\n",
       " 'K_4',\n",
       " 'H_4',\n",
       " 'P_5',\n",
       " 'C_5',\n",
       " 'K_5',\n",
       " 'H_5',\n",
       " 'P_6',\n",
       " 'C_6',\n",
       " 'K_6',\n",
       " 'H_6',\n",
       " 'P_7',\n",
       " 'C_7',\n",
       " 'K_7',\n",
       " 'H_7',\n",
       " 'P_8',\n",
       " 'C_8',\n",
       " 'K_8',\n",
       " 'H_8',\n",
       " 'P_9',\n",
       " 'C_9',\n",
       " 'K_9',\n",
       " 'H_9',\n",
       " 'P_10',\n",
       " 'C_10',\n",
       " 'K_10',\n",
       " 'H_10',\n",
       " 'P_B',\n",
       " 'P_D',\n",
       " 'P_K',\n",
       " 'C_B',\n",
       " 'C_D',\n",
       " 'C_K',\n",
       " 'K_B',\n",
       " 'K_D',\n",
       " 'K_K',\n",
       " 'H_B',\n",
       " 'H_D',\n",
       " 'H_K']"
      ]
     },
     "execution_count": 50,
     "metadata": {},
     "output_type": "execute_result"
    }
   ],
   "source": [
    "# Create Card Deck\n",
    "cards = []\n",
    "\n",
    "def addCard(color, number):\n",
    "    card = color + str(number)\n",
    "    cards.append(card)\n",
    "\n",
    "def addPicCard(color):\n",
    "    cards.append(color + \"B\")\n",
    "    cards.append(color + \"D\")\n",
    "    cards.append(color + \"K\")\n",
    "\n",
    "# Erstelle Zahlenkarten\n",
    "for i in range(1, 11, 1):\n",
    "    i = int(i)\n",
    "    addCard(\"P_\", i)\n",
    "    addCard(\"C_\", i)\n",
    "    addCard(\"K_\", i)\n",
    "    addCard(\"H_\", i)\n",
    "\n",
    "# Erstelle Bildkarten\n",
    "addPicCard(\"P_\")\n",
    "addPicCard(\"C_\")\n",
    "addPicCard(\"K_\")\n",
    "addPicCard(\"H_\")\n",
    "\n",
    "print(len(cards))\n",
    "cards"
   ]
  },
  {
   "cell_type": "code",
   "execution_count": 52,
   "id": "18459c6f",
   "metadata": {},
   "outputs": [
    {
     "data": {
      "text/plain": [
       "['C_D',\n",
       " 'H_4',\n",
       " 'C_8',\n",
       " 'K_2',\n",
       " 'H_3',\n",
       " 'K_3',\n",
       " 'K_8',\n",
       " 'P_5',\n",
       " 'H_7',\n",
       " 'C_B',\n",
       " 'P_6',\n",
       " 'C_2',\n",
       " 'P_3',\n",
       " 'C_10',\n",
       " 'H_1',\n",
       " 'C_3',\n",
       " 'K_5',\n",
       " 'H_8',\n",
       " 'K_B',\n",
       " 'C_4',\n",
       " 'K_K',\n",
       " 'K_7',\n",
       " 'K_9',\n",
       " 'H_5',\n",
       " 'H_9',\n",
       " 'C_5',\n",
       " 'C_6',\n",
       " 'C_7',\n",
       " 'K_1',\n",
       " 'K_6',\n",
       " 'H_2',\n",
       " 'C_K',\n",
       " 'H_6',\n",
       " 'P_K',\n",
       " 'P_4',\n",
       " 'P_9',\n",
       " 'P_2',\n",
       " 'C_9',\n",
       " 'P_B',\n",
       " 'K_10',\n",
       " 'P_7',\n",
       " 'H_D',\n",
       " 'H_B',\n",
       " 'H_K',\n",
       " 'K_4',\n",
       " 'P_1',\n",
       " 'P_10',\n",
       " 'H_10',\n",
       " 'K_D',\n",
       " 'P_D',\n",
       " 'C_1',\n",
       " 'P_8']"
      ]
     },
     "execution_count": 52,
     "metadata": {},
     "output_type": "execute_result"
    }
   ],
   "source": [
    "# Karten mischen\n",
    "import random\n",
    "def shuffleDeck(cardDeck):\n",
    "    shuffledCards = random.shuffle(cardDeck)\n",
    "    return shuffledCards\n",
    "shuffleDeck(cards)\n",
    "\n",
    "cards"
   ]
  },
  {
   "cell_type": "code",
   "execution_count": null,
   "id": "d6af884c",
   "metadata": {},
   "outputs": [
    {
     "name": "stdout",
     "output_type": "stream",
     "text": [
      "51\n",
      "P_8\n"
     ]
    }
   ],
   "source": [
    "# Ziehe Karten\n",
    "def drawCard(TotalDeck):\n",
    "    card = TotalDeck[-1]\n",
    "    print(card)\n",
    "    TotalDeck.pop()\n",
    "    print(len(cards))\n",
    "    return card\n"
   ]
  },
  {
   "cell_type": "code",
   "execution_count": null,
   "id": "791e66cf",
   "metadata": {},
   "outputs": [],
   "source": [
    "# Player 1\n",
    "playerCards = []\n",
    "playerCards.append(drawCard(cards))\n"
   ]
  },
  {
   "cell_type": "code",
   "execution_count": null,
   "id": "7b42eb26",
   "metadata": {},
   "outputs": [
    {
     "name": "stdout",
     "output_type": "stream",
     "text": [
      "Kreuz 2 2\n",
      "Kreuz 3 3\n",
      "Kreuz 4 4\n",
      "Kreuz 5 5\n",
      "Kreuz 6 6\n",
      "Kreuz 7 7\n",
      "Kreuz 8 8\n",
      "Kreuz 9 9\n",
      "Kreuz 10 10\n",
      "Kreuz Bube 10\n",
      "Kreuz Dame 10\n",
      "Kreuz König 10\n",
      "Kreuz Ass (1, 11)\n",
      "Herz 2 2\n",
      "Herz 3 3\n",
      "Herz 4 4\n",
      "Herz 5 5\n",
      "Herz 6 6\n",
      "Herz 7 7\n",
      "Herz 8 8\n",
      "Herz 9 9\n",
      "Herz 10 10\n",
      "Herz Bube 10\n",
      "Herz Dame 10\n",
      "Herz König 10\n",
      "Herz Ass (1, 11)\n",
      "Pik 2 2\n",
      "Pik 3 3\n",
      "Pik 4 4\n",
      "Pik 5 5\n",
      "Pik 6 6\n",
      "Pik 7 7\n",
      "Pik 8 8\n",
      "Pik 9 9\n",
      "Pik 10 10\n",
      "Pik Bube 10\n",
      "Pik Dame 10\n",
      "Pik König 10\n",
      "Pik Ass (1, 11)\n",
      "Karo 2 2\n",
      "Karo 3 3\n",
      "Karo 4 4\n",
      "Karo 5 5\n",
      "Karo 6 6\n",
      "Karo 7 7\n",
      "Karo 8 8\n",
      "Karo 9 9\n",
      "Karo 10 10\n",
      "Karo Bube 10\n",
      "Karo Dame 10\n",
      "Karo König 10\n",
      "Karo Ass (1, 11)\n"
     ]
    }
   ],
   "source": [
    "farben = {'Karo', 'Herz', 'Pik', 'Kreuz'}\n",
    "werte = {\n",
    "          '2': 2, '3': 3, '4': 4, '5': 5, '6': 6, '7':7, '8': 8, '9':9, '10': 10, 'Bube': 10, 'Dame': 10, 'König':10, 'Ass':(1, 11)\n",
    "}\n",
    "\n",
    "for farbe in farben:\n",
    "    for bez, wert in werte.items():\n",
    "        "
   ]
  }
 ],
 "metadata": {
  "kernelspec": {
   "display_name": "Python 3",
   "language": "python",
   "name": "python3"
  },
  "language_info": {
   "codemirror_mode": {
    "name": "ipython",
    "version": 3
   },
   "file_extension": ".py",
   "mimetype": "text/x-python",
   "name": "python",
   "nbconvert_exporter": "python",
   "pygments_lexer": "ipython3",
   "version": "3.12.2"
  }
 },
 "nbformat": 4,
 "nbformat_minor": 5
}
